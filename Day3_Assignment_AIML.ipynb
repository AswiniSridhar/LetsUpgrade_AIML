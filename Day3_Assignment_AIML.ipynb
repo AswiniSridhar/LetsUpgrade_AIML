{
  "nbformat": 4,
  "nbformat_minor": 0,
  "metadata": {
    "colab": {
      "name": "Untitled1.ipynb",
      "provenance": [],
      "authorship_tag": "ABX9TyPctx+7u0/EeAdH8R/OmMVV",
      "include_colab_link": true
    },
    "kernelspec": {
      "name": "python3",
      "display_name": "Python 3"
    }
  },
  "cells": [
    {
      "cell_type": "markdown",
      "metadata": {
        "id": "view-in-github",
        "colab_type": "text"
      },
      "source": [
        "<a href=\"https://colab.research.google.com/github/AswiniSridhar/LetsUpgrade_AIML/blob/master/Day3_Assignment_AIML.ipynb\" target=\"_parent\"><img src=\"https://colab.research.google.com/assets/colab-badge.svg\" alt=\"Open In Colab\"/></a>"
      ]
    },
    {
      "cell_type": "code",
      "metadata": {
        "id": "mMVnOnopbYYu",
        "colab_type": "code",
        "colab": {
          "base_uri": "https://localhost:8080/",
          "height": 51
        },
        "outputId": "af464ac5-d48c-4d73-c4e1-4afb3d9a8aed"
      },
      "source": [
        "# 1. Complex number subtraction\n",
        "\n",
        "\n",
        "import cmath \n",
        "import math\n",
        "\n",
        "a = 2+2j\n",
        "b = 4+5j\n",
        "\n",
        "sub = a - b\n",
        "print(sub)\n",
        "print(type(sub))\n"
      ],
      "execution_count": 1,
      "outputs": [
        {
          "output_type": "stream",
          "text": [
            "(-2-3j)\n",
            "<class 'complex'>\n"
          ],
          "name": "stdout"
        }
      ]
    },
    {
      "cell_type": "code",
      "metadata": {
        "id": "2zYCOnHKbiH0",
        "colab_type": "code",
        "colab": {
          "base_uri": "https://localhost:8080/",
          "height": 68
        },
        "outputId": "d2394823-5e46-4f81-8167-87ff7a1ad328"
      },
      "source": [
        "# 2. th root of a number\n",
        "\n",
        "import math\n",
        "\n",
        "n = int(input(\"Enter the root needs to be calculated: \"))\n",
        "x = int(input(\"Enter the number: \"))\n",
        "\n",
        "SquareRoot = x**(1/n)\n",
        "round(SquareRoot)\n",
        "print(SquareRoot)"
      ],
      "execution_count": 3,
      "outputs": [
        {
          "output_type": "stream",
          "text": [
            "Enter the root needs to be calculated: 4\n",
            "Enter the number: 16\n",
            "2.0\n"
          ],
          "name": "stdout"
        }
      ]
    },
    {
      "cell_type": "code",
      "metadata": {
        "id": "gboDf-5jbt7t",
        "colab_type": "code",
        "colab": {
          "base_uri": "https://localhost:8080/",
          "height": 136
        },
        "outputId": "37b327c6-1197-4b41-91b0-08be8a3e63f7"
      },
      "source": [
        "# 3. Swap 2 number using temporary variables\n",
        "import math\n",
        "num = input(\"Enter the 1st number: \")\n",
        "num1 = input(\"Enter the 2st number: \")\n",
        "print(\"num: \"+num)\n",
        "print(\"num1: \"+num1)\n",
        "\n",
        "temp = num\n",
        "num = num1\n",
        "num1 = temp\n",
        "\n",
        "print(\"After swapping\")\n",
        "print(\"num: \"+num)\n",
        "print(\"num1: \"+num1)\n"
      ],
      "execution_count": 4,
      "outputs": [
        {
          "output_type": "stream",
          "text": [
            "Enter the 1st number: 20\n",
            "Enter the 2st number: 30\n",
            "num: 20\n",
            "num1: 30\n",
            "After swapping\n",
            "num: 30\n",
            "num1: 20\n"
          ],
          "name": "stdout"
        }
      ]
    },
    {
      "cell_type": "code",
      "metadata": {
        "id": "L55oyjH1b8ac",
        "colab_type": "code",
        "colab": {
          "base_uri": "https://localhost:8080/",
          "height": 136
        },
        "outputId": "e9127a2b-b519-4544-c63d-a6de17709be1"
      },
      "source": [
        "# 4. Swap 2 number without using temporary variables\n",
        "\n",
        "import math\n",
        "a = int(input(\"Enter the 1st number: \"))\n",
        "b = int(input(\"Enter the 2st number: \"))\n",
        "\n",
        "print(\"a: \" ,a)\n",
        "print(\"b: \" ,b)\n",
        "\n",
        "a=a+b\n",
        "b=a-b\n",
        "a=a-b\n",
        "\n",
        "print(\"After Swapping\")\n",
        "print(\"a: \" ,a)\n",
        "print(\"b: \" ,b)"
      ],
      "execution_count": 5,
      "outputs": [
        {
          "output_type": "stream",
          "text": [
            "Enter the 1st number: 11\n",
            "Enter the 2st number: 21\n",
            "a:  11\n",
            "b:  21\n",
            "After Swapping\n",
            "a:  21\n",
            "b:  11\n"
          ],
          "name": "stdout"
        }
      ]
    },
    {
      "cell_type": "code",
      "metadata": {
        "id": "dpkdAjYlcF22",
        "colab_type": "code",
        "colab": {
          "base_uri": "https://localhost:8080/",
          "height": 85
        },
        "outputId": "09cf1790-bb26-4b85-b388-0f02b190a727"
      },
      "source": [
        "# 5. \n",
        "\n",
        "# 1. Fahrenheit to celsius\n",
        "\n",
        "fahrenheit = float(input(\"Temperature in fahrenheit: \"))\n",
        "celsius = (fahrenheit - 32) * 5/9\n",
        "print(\"Fahrenheit to celsius: \", celsius)\n",
        "\n",
        "# 1. Fahrenheit to kelvin\n",
        "\n",
        "fahrenheit_1 = float(input(\"Temperature in fahrenheit: \"))\n",
        "kelvin = 273.5 + ((fahrenheit_1 - 32.0) * (5.0/9.0))\n",
        "print(\"Fahrenheit to kelvin: \", kelvin)\n",
        "\n",
        "\n"
      ],
      "execution_count": 6,
      "outputs": [
        {
          "output_type": "stream",
          "text": [
            "Temperature in fahrenheit: 67\n",
            "Fahrenheit to celsius:  19.444444444444443\n",
            "Temperature in fahrenheit: 67\n",
            "Fahrenheit to kelvin:  292.94444444444446\n"
          ],
          "name": "stdout"
        }
      ]
    },
    {
      "cell_type": "code",
      "metadata": {
        "id": "kyopMiQ0cUNE",
        "colab_type": "code",
        "colab": {
          "base_uri": "https://localhost:8080/",
          "height": 153
        },
        "outputId": "e708f90a-0f64-4c14-c714-e9947c9e33e8"
      },
      "source": [
        "# 6. All datatypes in python\n",
        "\n",
        "# Integer\n",
        "a  = 10\n",
        "print(\"Data Type of a is\",type(a))\n",
        "# Float\n",
        "b  = 8.9e105\n",
        "print(\"Data Type of b is\",type(b))\n",
        "# String\n",
        "c  = \"SriRam\"\n",
        "print(\"Data Type of c is\",type(c))\n",
        "# Complex number\n",
        "d  = 36+2j\n",
        "print(\"Data Type of d is\",type(d))\n",
        "# Boolean\n",
        "bol  = True\n",
        "print(\"Data Type of bol is\",type(bol))\n",
        "# List\n",
        "Lis  = [1,'a',\"ssjfg\",0]\n",
        "print(\"Data Type of Lis is\",type(Lis))\n",
        "# Tuple\n",
        "Tup  = (1,'a',\"ssjfg\",0)\n",
        "print(\"Data Type of Tup is\",type(Tup))\n",
        "# Dictionary\n",
        "Dic  = {1:4,'a':'V',\"ssjfg\":'U',0:\"jfsjfhj\"}\n",
        "print(\"Data Type of Dic is\",type(Dic))"
      ],
      "execution_count": 19,
      "outputs": [
        {
          "output_type": "stream",
          "text": [
            "Data Type of a is <class 'int'>\n",
            "Data Type of b is <class 'float'>\n",
            "Data Type of c is <class 'str'>\n",
            "Data Type of d is <class 'complex'>\n",
            "Data Type of bol is <class 'bool'>\n",
            "Data Type of Lis is <class 'list'>\n",
            "Data Type of Tup is <class 'tuple'>\n",
            "Data Type of Dic is <class 'dict'>\n"
          ],
          "name": "stdout"
        }
      ]
    },
    {
      "cell_type": "code",
      "metadata": {
        "id": "0mJcQewAdS20",
        "colab_type": "code",
        "colab": {}
      },
      "source": [
        ""
      ],
      "execution_count": null,
      "outputs": []
    }
  ]
}