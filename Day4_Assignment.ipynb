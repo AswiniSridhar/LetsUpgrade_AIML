{
  "nbformat": 4,
  "nbformat_minor": 0,
  "metadata": {
    "colab": {
      "name": "Day4_Assignment.ipynb",
      "provenance": [],
      "collapsed_sections": [],
      "authorship_tag": "ABX9TyO7vXjkk2obgAAQWC7Ghys+",
      "include_colab_link": true
    },
    "kernelspec": {
      "name": "python3",
      "display_name": "Python 3"
    }
  },
  "cells": [
    {
      "cell_type": "markdown",
      "metadata": {
        "id": "view-in-github",
        "colab_type": "text"
      },
      "source": [
        "<a href=\"https://colab.research.google.com/github/AswiniSridhar/LetsUpgrade_AIML/blob/master/Day4_Assignment.ipynb\" target=\"_parent\"><img src=\"https://colab.research.google.com/assets/colab-badge.svg\" alt=\"Open In Colab\"/></a>"
      ]
    },
    {
      "cell_type": "code",
      "metadata": {
        "id": "oxV7x9PVhnhs",
        "colab_type": "code",
        "colab": {
          "base_uri": "https://localhost:8080/",
          "height": 119
        },
        "outputId": "10d03a0f-c8c5-467e-a892-279ddc7fe6ea"
      },
      "source": [
        "# 3. \n",
        "\n",
        "import math\n",
        "\n",
        "a = int(input(\"Enter the 1st number: \"))\n",
        "b = int(input(\"Enter the 2st number: \"))\n",
        "\n",
        "print(\"a: \" ,a)\n",
        "print(\"b: \" ,b)\n",
        "c = a-b\n",
        "print(\"Subtracted value: \" ,c)\n",
        "\n",
        "if c>25:\n",
        "    d = a*b\n",
        "    print(\"Multiplied value: \", d)\n",
        "else:\n",
        "    d = a/b\n",
        "    print(\"Divided value: \", d)\n"
      ],
      "execution_count": 1,
      "outputs": [
        {
          "output_type": "stream",
          "text": [
            "Enter the 1st number: 34\n",
            "Enter the 2st number: 8\n",
            "a:  34\n",
            "b:  8\n",
            "Subtracted value:  26\n",
            "Multiplied value:  272\n"
          ],
          "name": "stdout"
        }
      ]
    },
    {
      "cell_type": "code",
      "metadata": {
        "id": "B9r74rfLjH5M",
        "colab_type": "code",
        "colab": {
          "base_uri": "https://localhost:8080/",
          "height": 34
        },
        "outputId": "6875b0bc-9cb3-44a0-cccb-33d90642289c"
      },
      "source": [
        "# 5.\n",
        "\n",
        "lis_1 = [25,7,14,15,8,20]\n",
        "lis_2 = []\n",
        "for i in range(len(lis_1)):\n",
        "    n = lis_1[i]\n",
        "    k = lis_1[i]/2\n",
        "    if k > 7:\n",
        "        lis_2.append(lis_1[i])\n",
        "print(lis_2)"
      ],
      "execution_count": 3,
      "outputs": [
        {
          "output_type": "stream",
          "text": [
            "[25, 15, 20]\n"
          ],
          "name": "stdout"
        }
      ]
    },
    {
      "cell_type": "code",
      "metadata": {
        "id": "Cx3AG1vglFle",
        "colab_type": "code",
        "colab": {
          "base_uri": "https://localhost:8080/",
          "height": 85
        },
        "outputId": "a54ef7eb-2305-4746-d068-ec5faf1347e1"
      },
      "source": [
        "# 4. \n",
        "lis_1 = [10,15,20,9]\n",
        "for i in range(len(lis_1)):\n",
        "    if lis_1[i] % 2 == 0:\n",
        "        m =  (lis_1[i] * lis_1[i]) - 2\n",
        "        print(lis_1[i],\" is divisible by 2, hence 'Squareroot - 2' of the number is displayed\", m)\n",
        "    else:\n",
        "        print(lis_1[i],\" is not divisible by 2, hence the same number is displayed.\")"
      ],
      "execution_count": 6,
      "outputs": [
        {
          "output_type": "stream",
          "text": [
            "10  is divisible by 2, hence 'Squareroot - 2' of the number is displayed 98\n",
            "15  is not divisible by 2, hence the same number is displayed.\n",
            "20  is divisible by 2, hence 'Squareroot - 2' of the number is displayed 398\n",
            "9  is not divisible by 2, hence the same number is displayed.\n"
          ],
          "name": "stdout"
        }
      ]
    },
    {
      "cell_type": "code",
      "metadata": {
        "id": "B9zsLuSxl0kc",
        "colab_type": "code",
        "colab": {
          "base_uri": "https://localhost:8080/",
          "height": 136
        },
        "outputId": "9ee8571b-6a95-42a6-f712-918ebd8c9d30"
      },
      "source": [
        "# 1. Complex numbers\n",
        "\n",
        "c = 5 + 4j\n",
        "print('Real Part =', c.real)\n",
        "print('Imaginary Part =', c.imag)\n",
        "print('Complex conjugate =', c.conjugate())\n",
        "\n",
        "a = 4 + 2j\n",
        "b = 8 + 4j\n",
        "print('Addition =', a + b)\n",
        "print('Subtraction =', a - b)\n",
        "print('Multiplication =', a * b)\n",
        "print('Division =', a / b)\n",
        "\n"
      ],
      "execution_count": 11,
      "outputs": [
        {
          "output_type": "stream",
          "text": [
            "Real Part = 5.0\n",
            "Imaginary Part = 4.0\n",
            "Complex conjugate = (5-4j)\n",
            "Addition = (12+6j)\n",
            "Subtraction = (-4-2j)\n",
            "Multiplication = (24+32j)\n",
            "Division = (0.5+0j)\n"
          ],
          "name": "stdout"
        }
      ]
    },
    {
      "cell_type": "code",
      "metadata": {
        "id": "6CiPIxCZoQqP",
        "colab_type": "code",
        "colab": {
          "base_uri": "https://localhost:8080/",
          "height": 85
        },
        "outputId": "cee2ca3e-9c77-4743-fa39-4f9ac8d7a1f0"
      },
      "source": [
        "# Complex number in polar and  rectangular format.\n",
        "\n",
        "import cmath, math, numpy\n",
        "c = 1 + 2j\n",
        "\n",
        "modulus = abs(c)\n",
        "phase = cmath.phase(c)\n",
        "polar = cmath.polar(c)\n",
        "\n",
        "print('Modulus =', modulus)\n",
        "print('Phase =', phase)\n",
        "print('Polar Coordinates =', polar)\n",
        "\n",
        "print('Rectangular Coordinates =', cmath.rect(modulus, phase))"
      ],
      "execution_count": 13,
      "outputs": [
        {
          "output_type": "stream",
          "text": [
            "Modulus = 2.23606797749979\n",
            "Phase = 1.1071487177940904\n",
            "Polar Coordinates = (2.23606797749979, 1.1071487177940904)\n",
            "Rectangular Coordinates = (1.0000000000000002+2j)\n"
          ],
          "name": "stdout"
        }
      ]
    },
    {
      "cell_type": "code",
      "metadata": {
        "id": "vwv4k04-p18m",
        "colab_type": "code",
        "colab": {}
      },
      "source": [
        "# 2. Range function\n",
        "\n",
        "\n"
      ],
      "execution_count": null,
      "outputs": []
    }
  ]
}