{
  "nbformat": 4,
  "nbformat_minor": 0,
  "metadata": {
    "colab": {
      "name": "Day5_Assignment.ipynb",
      "provenance": [],
      "collapsed_sections": [],
      "authorship_tag": "ABX9TyOq0uOg5NatibgW6/4ZumZy",
      "include_colab_link": true
    },
    "kernelspec": {
      "name": "python3",
      "display_name": "Python 3"
    }
  },
  "cells": [
    {
      "cell_type": "markdown",
      "metadata": {
        "id": "view-in-github",
        "colab_type": "text"
      },
      "source": [
        "<a href=\"https://colab.research.google.com/github/AswiniSridhar/LetsUpgrade_AIML/blob/master/Day5_Assignment.ipynb\" target=\"_parent\"><img src=\"https://colab.research.google.com/assets/colab-badge.svg\" alt=\"Open In Colab\"/></a>"
      ]
    },
    {
      "cell_type": "code",
      "metadata": {
        "id": "TxGVtZg2mBwB",
        "colab_type": "code",
        "colab": {
          "base_uri": "https://localhost:8080/",
          "height": 34
        },
        "outputId": "76ee72c3-560c-4c42-9ac4-d7772386cfb7"
      },
      "source": [
        "#  1.\n",
        "\n",
        "num = int(input(\"Enter the number: \"))\n",
        "for val in range(2, num+1): \n",
        "    if val > 1: \n",
        "        for n in range(2, val//2 + 2): \n",
        "            if (val % n) == 0: \n",
        "                break\n",
        "            else: \n",
        "                if n == val//2 + 1: \n",
        "                    print(val) \n"
      ],
      "execution_count": 18,
      "outputs": [
        {
          "output_type": "stream",
          "text": [
            "drdarshaningleaimltrainer\n"
          ],
          "name": "stdout"
        }
      ]
    },
    {
      "cell_type": "code",
      "metadata": {
        "id": "S4LTcu3mnAYO",
        "colab_type": "code",
        "colab": {}
      },
      "source": [
        "#  2. 15 string functions\n",
        "\n",
        "str = \"AswinSridhar\"\n",
        "# Capitalize\n",
        "print(str.capitalize())\n",
        "# endswith\n",
        "print(str.endswith('r'))\n",
        "# Index\n",
        "print(str.index('i'))\n",
        "# \n",
        "print(str.islower())\n",
        "print(str.isnumeric())\n",
        "print(str.replace('A','R'))\n",
        "print(str.isidentifier())\n",
        "print(str.split('S'))\n",
        "print(str.partition('S'))\n",
        "list1 = ['1','2','3','4']    \n",
        "s = \"-\"\n",
        "s = s.join(list1) \n",
        "print(s)\n",
        "print(str.strip('As'))\n",
        "print(str.swapcase())\n",
        "print(str.center(24,'*'))\n",
        "\n",
        "\n"
      ],
      "execution_count": null,
      "outputs": []
    },
    {
      "cell_type": "code",
      "metadata": {
        "id": "hghZrcY0nSMg",
        "colab_type": "code",
        "colab": {}
      },
      "source": [
        "# 4. \n",
        "\n",
        "def achu(a):\n",
        "  b = a.lower()\n",
        "  c = ''.join(e for e in b if e.isalnum())\n",
        "  return c\n",
        "\n",
        "a = \"Dr. Darshan Ingle @AI-ML Trainer\"\n",
        "print(achu(a))\n",
        "\n",
        "\n"
      ],
      "execution_count": null,
      "outputs": []
    },
    {
      "cell_type": "code",
      "metadata": {
        "id": "Xcvv7ALwnZ-B",
        "colab_type": "code",
        "colab": {}
      },
      "source": [
        "#  3.\n",
        "\n",
        "def ispalindrome(s):\n",
        "    if(s == s[::-1]):\n",
        "        return True\n",
        "    else:\n",
        "        return False\n",
        "    \n",
        "s = \"whghwwwag\"\n",
        "if(m):\n",
        "    print(\"The given string is a Palindrome.\")\n",
        "else:\n",
        "    print(\"The given string is not a Palindrome.\")"
      ],
      "execution_count": null,
      "outputs": []
    },
    {
      "cell_type": "code",
      "metadata": {
        "id": "L9YQ7tfp0Mkn",
        "colab_type": "code",
        "colab": {}
      },
      "source": [
        ""
      ],
      "execution_count": 24,
      "outputs": []
    },
    {
      "cell_type": "code",
      "metadata": {
        "id": "XEBqUqPn0eMv",
        "colab_type": "code",
        "colab": {}
      },
      "source": [
        ""
      ],
      "execution_count": null,
      "outputs": []
    }
  ]
}