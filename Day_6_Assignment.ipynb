{
  "nbformat": 4,
  "nbformat_minor": 0,
  "metadata": {
    "colab": {
      "name": "Day-6_Assignment.ipynb",
      "provenance": [],
      "collapsed_sections": [],
      "authorship_tag": "ABX9TyNwW+nIqRWZDOpiNKjyYxap",
      "include_colab_link": true
    },
    "kernelspec": {
      "name": "python3",
      "display_name": "Python 3"
    }
  },
  "cells": [
    {
      "cell_type": "markdown",
      "metadata": {
        "id": "view-in-github",
        "colab_type": "text"
      },
      "source": [
        "<a href=\"https://colab.research.google.com/github/AswiniSridhar/LetsUpgrade_AIML/blob/master/Day_6_Assignment.ipynb\" target=\"_parent\"><img src=\"https://colab.research.google.com/assets/colab-badge.svg\" alt=\"Open In Colab\"/></a>"
      ]
    },
    {
      "cell_type": "code",
      "metadata": {
        "id": "WGGuJAbfDGKR",
        "colab_type": "code",
        "colab": {
          "base_uri": "https://localhost:8080/",
          "height": 34
        },
        "outputId": "a4094a13-5e11-4881-b4b1-fb780ca9ede0"
      },
      "source": [
        "a = \"jhejhje&*FGHFG\" \n",
        "k = \" \"\n",
        "j = \" \"\n",
        "b =  ''.join(j for j in a if j.islower())\n",
        "print(b)\n"
      ],
      "execution_count": null,
      "outputs": [
        {
          "output_type": "stream",
          "text": [
            "jhejhje\n"
          ],
          "name": "stdout"
        }
      ]
    },
    {
      "cell_type": "code",
      "metadata": {
        "id": "GQWwuJ6gDXfh",
        "colab_type": "code",
        "colab": {}
      },
      "source": [
        "# Question: 1\n",
        "str = input(\"Enter the E-mail Id: \")\n",
        "def companyName(s):\n",
        "    a = s.split('@')\n",
        "    b = a[1]\n",
        "    c = b.split('.')\n",
        "    d = c[0]\n",
        "    return d\n",
        "\n",
        "print(\"Company name from the email Id: \",companyName(str))\n",
        "\n",
        "# s = \"john@google.com\""
      ],
      "execution_count": null,
      "outputs": []
    },
    {
      "cell_type": "code",
      "metadata": {
        "id": "lOD-ZIhA3CuY",
        "colab_type": "code",
        "colab": {
          "base_uri": "https://localhost:8080/",
          "height": 51
        },
        "outputId": "556efa9d-b33d-458c-a717-18d6ac387c60"
      },
      "source": [
        "# Question 2:# Question 2:\n",
        "\n",
        "str = input(\"Enter comma seperated string: \")\n",
        "\n",
        "def SortedString(a):\n",
        "    lis = str.split(',')\n",
        "    lis.sort()\n",
        "    str_1 = \"\"\n",
        "    ln = len(lis)\n",
        "    for i in  lis:\n",
        "        str_1 +=i\n",
        "        str_1 +=','\n",
        "    return str_1\n",
        "\n",
        "print(\"String after sorting: \",SortedString(str))"
      ],
      "execution_count": 7,
      "outputs": [
        {
          "output_type": "stream",
          "text": [
            "Enter comma seperated string: Rama,Seetha,Lava,Kusa\n",
            "String after sorting:  Kusa,Lava,Rama,Seetha,\n"
          ],
          "name": "stdout"
        }
      ]
    },
    {
      "cell_type": "code",
      "metadata": {
        "id": "IBDA82gw6X7O",
        "colab_type": "code",
        "colab": {}
      },
      "source": [
        "# Question 3:"
      ],
      "execution_count": 9,
      "outputs": []
    },
    {
      "cell_type": "code",
      "metadata": {
        "id": "UX1JBCOMHKE5",
        "colab_type": "code",
        "colab": {
          "base_uri": "https://localhost:8080/",
          "height": 34
        },
        "outputId": "b1c59684-e621-4b7c-c85c-31df9a0b9304"
      },
      "source": [
        "# Question 4:\n",
        "\n",
        "list = [1,2,4,5,7,9]\n",
        "res = [ele for ele in range(max(list)+1) if ele not in list]\n",
        "print(res)"
      ],
      "execution_count": 18,
      "outputs": [
        {
          "output_type": "stream",
          "text": [
            "[0, 3, 6, 8]\n"
          ],
          "name": "stdout"
        }
      ]
    },
    {
      "cell_type": "code",
      "metadata": {
        "id": "NTYpV6gfIx24",
        "colab_type": "code",
        "colab": {
          "base_uri": "https://localhost:8080/",
          "height": 34
        },
        "outputId": "ea6b4e5e-f3fa-4c67-df4b-7250a93f9042"
      },
      "source": [
        "# Question 5:\n",
        "\n",
        "list = [1,2,9,4,5,4,7,9,1]\n",
        "def removeDuplicate(lis):\n",
        "  for i in list:\n",
        "    if(list.count(i)!=1):\n",
        "      list.remove(i)\n",
        "  return list\n",
        "print(removeDuplicate(list))\n"
      ],
      "execution_count": 20,
      "outputs": [
        {
          "output_type": "stream",
          "text": [
            "[2, 5, 4, 7, 9, 1]\n"
          ],
          "name": "stdout"
        }
      ]
    },
    {
      "cell_type": "code",
      "metadata": {
        "id": "CcBynKALS8r4",
        "colab_type": "code",
        "colab": {}
      },
      "source": [
        ""
      ],
      "execution_count": null,
      "outputs": []
    }
  ]
}